{
 "cells": [
  {
   "cell_type": "code",
   "execution_count": 1,
   "metadata": {},
   "outputs": [],
   "source": [
    "### importando libs\n",
    "from pyspark.sql import SparkSession\n",
    "import requests\n",
    "import io\n",
    "import pandas as pd"
   ]
  },
  {
   "cell_type": "code",
   "execution_count": 2,
   "metadata": {},
   "outputs": [],
   "source": [
    "# Sessão spark\n",
    "spark = SparkSession.builder.appName('aula01').getOrCreate()"
   ]
  },
  {
   "cell_type": "code",
   "execution_count": 17,
   "metadata": {},
   "outputs": [],
   "source": [
    "#database\n",
    "url = 'http://compras.dados.gov.br/servicos/v1/servicos.csv?descricao=educação'\n",
    "data = requests.get(url).content\n",
    "parse_data = io.StringIO(data.decode('utf-8'))\n",
    "df = pd.read_csv(parse_data)"
   ]
  },
  {
   "cell_type": "code",
   "execution_count": 3,
   "metadata": {},
   "outputs": [],
   "source": [
    "#databaseSales\n",
    "df = spark.read.csv('Base_de_Clientes_e_Compras.csv', header=True, inferSchema=True)"
   ]
  },
  {
   "cell_type": "code",
   "execution_count": 4,
   "metadata": {},
   "outputs": [
    {
     "name": "stdout",
     "output_type": "stream",
     "text": [
      "root\n",
      " |-- Nome Cliente: string (nullable = true)\n",
      " |-- ID Cliente: string (nullable = true)\n",
      " |-- Estado: string (nullable = true)\n",
      " |-- Quantidade Comprada: integer (nullable = true)\n",
      " |-- Valor: double (nullable = true)\n",
      " |-- Custo: double (nullable = true)\n",
      " |-- Data Compra: date (nullable = true)\n",
      " |-- Nome Produto: string (nullable = true)\n",
      "\n"
     ]
    }
   ],
   "source": [
    "#vendo schema dataset\n",
    "df.printSchema()"
   ]
  },
  {
   "cell_type": "code",
   "execution_count": 5,
   "metadata": {},
   "outputs": [],
   "source": [
    "#renomeando schema colunas\n",
    "df = (df\n",
    "      .withColumnRenamed('Nome Cliente', 'Cliente')\n",
    "      .withColumnRenamed('ID Cliente', 'ID_Cliente')\n",
    "      .withColumnRenamed('Quantidade Comprada', 'Quantidade_Comprada')\n",
    "      .withColumnRenamed('Data Compra', 'Data_Compra')\n",
    "      .withColumnRenamed('Nome Produto', 'Nome_Produto')\n",
    ")\n",
    "\n",
    "#cabeçalhos com letra minuscula\n",
    "df = df.select([x.lower() for x in df.columns])"
   ]
  },
  {
   "cell_type": "code",
   "execution_count": 9,
   "metadata": {},
   "outputs": [],
   "source": [
    "# Escrever o DataFrame em CSV em uma pasta local\n",
    "#df.write.mode('overwrite').csv('\\teste.csv', header=True)"
   ]
  },
  {
   "cell_type": "code",
   "execution_count": null,
   "metadata": {},
   "outputs": [],
   "source": []
  }
 ],
 "metadata": {
  "kernelspec": {
   "display_name": ".venv",
   "language": "python",
   "name": "python3"
  },
  "language_info": {
   "codemirror_mode": {
    "name": "ipython",
    "version": 3
   },
   "file_extension": ".py",
   "mimetype": "text/x-python",
   "name": "python",
   "nbconvert_exporter": "python",
   "pygments_lexer": "ipython3",
   "version": "3.12.1"
  }
 },
 "nbformat": 4,
 "nbformat_minor": 2
}
