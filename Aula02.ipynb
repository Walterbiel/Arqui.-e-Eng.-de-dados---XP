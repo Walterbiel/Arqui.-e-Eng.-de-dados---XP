{
  "cells": [
    {
      "cell_type": "markdown",
      "metadata": {
        "id": "JT0t5r_jaA8v"
      },
      "source": [
        "Importando dados e LIbs"
      ]
    },
    {
      "cell_type": "code",
      "execution_count": 3,
      "metadata": {
        "colab": {
          "base_uri": "https://localhost:8080/"
        },
        "id": "VzSOW1ykZaCn",
        "outputId": "6d240c42-a9f7-4c66-ec49-2e4809f34b5a"
      },
      "outputs": [
        {
          "name": "stdout",
          "output_type": "stream",
          "text": [
            "Collecting pyspark\n",
            "  Downloading pyspark-3.5.2.tar.gz (317.3 MB)\n",
            "\u001b[2K     \u001b[90m━━━━━━━━━━━━━━━━━━━━━━━━━━━━━━━━━━━━━━━━\u001b[0m \u001b[32m317.3/317.3 MB\u001b[0m \u001b[31m4.5 MB/s\u001b[0m eta \u001b[36m0:00:00\u001b[0m\n",
            "\u001b[?25h  Preparing metadata (setup.py) ... \u001b[?25l\u001b[?25hdone\n",
            "Requirement already satisfied: py4j==0.10.9.7 in /usr/local/lib/python3.10/dist-packages (from pyspark) (0.10.9.7)\n",
            "Building wheels for collected packages: pyspark\n",
            "  Building wheel for pyspark (setup.py) ... \u001b[?25l\u001b[?25hdone\n",
            "  Created wheel for pyspark: filename=pyspark-3.5.2-py2.py3-none-any.whl size=317812363 sha256=cdc7df7e39155d3349f328bed2aa21a6ed1d76c560fc9f6bf8b61ebee2a99fd5\n",
            "  Stored in directory: /root/.cache/pip/wheels/34/34/bd/03944534c44b677cd5859f248090daa9fb27b3c8f8e5f49574\n",
            "Successfully built pyspark\n",
            "Installing collected packages: pyspark\n",
            "Successfully installed pyspark-3.5.2\n"
          ]
        }
      ],
      "source": [
        "!pip install pyspark"
      ]
    },
    {
      "cell_type": "code",
      "execution_count": 4,
      "metadata": {
        "id": "PCr_-PdoZnjD"
      },
      "outputs": [],
      "source": [
        "from google.colab import drive\n",
        "import os\n",
        "from pyspark.sql import SparkSession\n",
        "import pyspark.sql.functions as F"
      ]
    },
    {
      "cell_type": "code",
      "execution_count": 5,
      "metadata": {
        "colab": {
          "base_uri": "https://localhost:8080/"
        },
        "id": "SBDHzW0nbKZv",
        "outputId": "b27eb7a0-6e17-4776-fb66-28c2b51e7341"
      },
      "outputs": [
        {
          "name": "stdout",
          "output_type": "stream",
          "text": [
            "Mounted at /content/drive\n"
          ]
        }
      ],
      "source": [
        "drive.mount('/content/drive')"
      ]
    },
    {
      "cell_type": "code",
      "execution_count": 6,
      "metadata": {
        "id": "OlkHsS0-Z4Xh"
      },
      "outputs": [],
      "source": [
        "# Sessão spark\n",
        "spark = SparkSession.builder.appName('aula02').getOrCreate()"
      ]
    },
    {
      "cell_type": "code",
      "execution_count": 7,
      "metadata": {
        "colab": {
          "base_uri": "https://localhost:8080/"
        },
        "id": "j7OFAqnDbaHd",
        "outputId": "064ae5a7-0d9d-424b-bd40-41f2c89e1c88"
      },
      "outputs": [
        {
          "name": "stdout",
          "output_type": "stream",
          "text": [
            "Drive already mounted at /content/drive; to attempt to forcibly remount, call drive.mount(\"/content/drive\", force_remount=True).\n"
          ]
        }
      ],
      "source": [
        "from google.colab import drive\n",
        "drive.mount('/content/drive')"
      ]
    },
    {
      "cell_type": "code",
      "execution_count": 8,
      "metadata": {
        "id": "2Tv1nkC6ahYW"
      },
      "outputs": [],
      "source": [
        "path = '/content/Base_de_Clientes_e_Compras.csv'\n",
        "#databaseSales\n",
        "df = spark.read.csv(path, header=True, inferSchema=True)"
      ]
    },
    {
      "cell_type": "code",
      "execution_count": 11,
      "metadata": {
        "colab": {
          "base_uri": "https://localhost:8080/"
        },
        "id": "vUama0SOa5Ox",
        "outputId": "288b9c8e-f191-45b7-c4e2-510d917f87cf"
      },
      "outputs": [
        {
          "name": "stdout",
          "output_type": "stream",
          "text": [
            "root\n",
            " |-- Nome Cliente: string (nullable = true)\n",
            " |-- ID Cliente: string (nullable = true)\n",
            " |-- Estado: string (nullable = true)\n",
            " |-- Quantidade Comprada: integer (nullable = true)\n",
            " |-- Valor: double (nullable = true)\n",
            " |-- Custo: double (nullable = true)\n",
            " |-- Data Compra: date (nullable = true)\n",
            " |-- Nome Produto: string (nullable = true)\n",
            "\n"
          ]
        }
      ],
      "source": [
        "df.printSchema()"
      ]
    },
    {
      "cell_type": "code",
      "execution_count": 15,
      "metadata": {
        "id": "HcpvPDw4cFgq"
      },
      "outputs": [],
      "source": [
        "#tratando cabeçalhos e titulos\n",
        "df_tratado = df.select([F.col(x).alias(x.replace(' ', '_').lower()) for x in df.columns])"
      ]
    },
    {
      "cell_type": "code",
      "execution_count": 17,
      "metadata": {
        "id": "_rFLgPYGdcIM"
      },
      "outputs": [],
      "source": [
        "#utilizando SQL sentro de funções especificas com spark dataframe utilizando F.expr\n",
        "df_tratado = df_tratado.withColumn(\"valor\",F.expr('valor * 1.2'))"
      ]
    },
    {
      "cell_type": "code",
      "execution_count": 19,
      "metadata": {
        "id": "vbrmJnuWddpZ"
      },
      "outputs": [],
      "source": [
        "df_tratado.write.mode(\"overwrite\").parquet('/content/Base_de_Clientes_e_Compras2.parquet')"
      ]
    },
    {
      "cell_type": "code",
      "execution_count": null,
      "metadata": {
        "id": "tEkojlrLeWX_"
      },
      "outputs": [],
      "source": []
    }
  ],
  "metadata": {
    "colab": {
      "provenance": []
    },
    "kernelspec": {
      "display_name": "Python 3",
      "name": "python3"
    },
    "language_info": {
      "name": "python"
    }
  },
  "nbformat": 4,
  "nbformat_minor": 0
}
