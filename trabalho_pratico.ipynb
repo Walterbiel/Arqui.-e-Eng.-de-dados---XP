{
 "cells": [
  {
   "cell_type": "code",
   "execution_count": 37,
   "metadata": {},
   "outputs": [],
   "source": [
    "import pandas as pd\n",
    "import matplotlib.pyplot as plt"
   ]
  },
  {
   "cell_type": "code",
   "execution_count": 5,
   "metadata": {},
   "outputs": [],
   "source": [
    "df_jan =  pd.read_csv('202401_NovoBolsaFamilia.csv', delimiter=';', encoding='1252')\n",
    "df_fev =  pd.read_csv('202402_NovoBolsaFamilia.csv', delimiter=';', encoding='1252')\n",
    "df_mar =  pd.read_csv('202403_NovoBolsaFamilia.csv', delimiter=';', encoding='1252')"
   ]
  },
  {
   "cell_type": "code",
   "execution_count": 34,
   "metadata": {},
   "outputs": [],
   "source": [
    "df_mar.dtypes\n",
    "df_mar['VALOR PARCELA'] = df_mar['VALOR PARCELA'].astype(str)\n",
    "\n",
    "# Substituindo ',' por '.' na string corretamente utilizando str.replace()\n",
    "df_mar['VALOR PARCELA'] = df_mar['VALOR PARCELA'].str.replace(',', '.')\n",
    "\n",
    "# Agora, se necessário, você pode converter de volta para float\n",
    "df_mar['VALOR PARCELA'] = df_mar['VALOR PARCELA'].astype(float)\n"
   ]
  },
  {
   "cell_type": "code",
   "execution_count": 30,
   "metadata": {},
   "outputs": [],
   "source": [
    "df_jan['VALOR PARCELA'] = df_jan['VALOR PARCELA'].astype(str)\n",
    "\n",
    "# Substituindo ',' por '.' na string corretamente utilizando str.replace()\n",
    "df_jan['VALOR PARCELA'] = df_jan['VALOR PARCELA'].str.replace(',', '.')\n",
    "\n",
    "# Agora, se necessário, você pode converter de volta para float\n",
    "df_jan['VALOR PARCELA'] = df_jan['VALOR PARCELA'].astype(float)\n"
   ]
  },
  {
   "cell_type": "code",
   "execution_count": 31,
   "metadata": {},
   "outputs": [],
   "source": [
    "# Filtrando para os pagamentos feitos em Wanderlândia (TO) em janeiro de 2024\n",
    "filtro = (df_jan['NOME MUNICÍPIO'] == 'WANDERLANDIA') & (df_jan['UF'] == 'TO')\n",
    "# Filtrando o DataFrame e somando o valor da coluna VALOR_PARCELA\n",
    "total_pago = df_jan.loc[filtro, 'VALOR PARCELA'].sum()"
   ]
  },
  {
   "cell_type": "code",
   "execution_count": 32,
   "metadata": {},
   "outputs": [
    {
     "data": {
      "text/plain": [
       "np.float64(972538.0)"
      ]
     },
     "execution_count": 32,
     "metadata": {},
     "output_type": "execute_result"
    }
   ],
   "source": [
    "total_pago"
   ]
  },
  {
   "cell_type": "code",
   "execution_count": 41,
   "metadata": {},
   "outputs": [
    {
     "name": "stdout",
     "output_type": "stream",
     "text": [
      "    UF  VALOR PARCELA\n",
      "0   SP   1.554346e+09\n",
      "1   BA   1.533883e+09\n",
      "2   RJ   1.019602e+09\n",
      "3   PE   9.850518e+08\n",
      "4   MG   9.812250e+08\n",
      "5   CE   9.173182e+08\n",
      "6   PA   8.865379e+08\n",
      "7   MA   7.978827e+08\n",
      "8   AM   4.461468e+08\n",
      "9   PB   4.210608e+08\n",
      "10  PI   3.803925e+08\n",
      "11  RS   3.738906e+08\n",
      "12  PR   3.717613e+08\n",
      "13  AL   3.450591e+08\n",
      "14  GO   3.229107e+08\n",
      "15  RN   3.069902e+08\n",
      "16  SE   2.356890e+08\n",
      "17  ES   1.880875e+08\n",
      "18  MT   1.656622e+08\n",
      "19  SC   1.404390e+08\n",
      "20  MS   1.323993e+08\n",
      "21  DF   1.203383e+08\n",
      "22  TO   1.027391e+08\n",
      "23  AC   8.902643e+07\n",
      "24  RO   7.980222e+07\n",
      "25  AP   7.888045e+07\n",
      "26  RR   5.156631e+07\n"
     ]
    }
   ],
   "source": [
    "#df_mar.plot(x='UF', y='VALOR PARCELA', kind='bar', legend=False)\n",
    "\n",
    "resultado = df_mar.groupby('UF')['VALOR PARCELA'].sum().reset_index()\n",
    "resultado = resultado.sort_values(by='VALOR PARCELA', ascending=False).reset_index(drop=True)\n",
    "\n",
    "print(resultado)"
   ]
  },
  {
   "cell_type": "code",
   "execution_count": null,
   "metadata": {},
   "outputs": [],
   "source": []
  }
 ],
 "metadata": {
  "kernelspec": {
   "display_name": ".venv",
   "language": "python",
   "name": "python3"
  },
  "language_info": {
   "codemirror_mode": {
    "name": "ipython",
    "version": 3
   },
   "file_extension": ".py",
   "mimetype": "text/x-python",
   "name": "python",
   "nbconvert_exporter": "python",
   "pygments_lexer": "ipython3",
   "version": "3.12.1"
  }
 },
 "nbformat": 4,
 "nbformat_minor": 2
}
